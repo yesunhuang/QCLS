{
 "cells": [
  {
   "cell_type": "markdown",
   "metadata": {},
   "source": [
    "# Validate special case"
   ]
  },
  {
   "cell_type": "code",
   "execution_count": 1,
   "metadata": {},
   "outputs": [],
   "source": [
    "#import all the things we need\n",
    "%matplotlib inline\n",
    "from qutip import*\n",
    "\n",
    "from scipy import *\n",
    "from scipy.integrate import solve_ivp\n",
    "\n",
    "import QCLSolver.data as Data\n",
    "import QCLSolver.solver as Solver\n",
    "import QCLSolver.tool as Tool\n",
    "\n",
    "import numpy as np\n",
    "\n",
    "import matplotlib.pyplot as plt"
   ]
  },
  {
   "cell_type": "code",
   "execution_count": 2,
   "metadata": {},
   "outputs": [],
   "source": [
    "def ConvertToSolver(t,y,data):\n",
    "    data.SetCurrentValue(y.tolist())\n",
    "    dy=np.asarray(data.Calculate())\n",
    "    return dy"
   ]
  },
  {
   "cell_type": "markdown",
   "metadata": {},
   "source": [
    "## Self-sustained oscillation in SHG"
   ]
  },
  {
   "cell_type": "code",
   "execution_count": 3,
   "metadata": {},
   "outputs": [],
   "source": [
    "##parameters\n",
    "delta_a=0\n",
    "delta_b=0\n",
    "kappa_a=2\n",
    "kappa_b=2\n",
    "FSR_enable=True\n",
    "psi0_l=[0,0]\n",
    "E=20; g=0.2"
   ]
  },
  {
   "cell_type": "code",
   "execution_count": 4,
   "metadata": {},
   "outputs": [],
   "source": [
    "tlist=np.linspace(0,10,10000)"
   ]
  },
  {
   "cell_type": "markdown",
   "metadata": {},
   "source": [
    "### QCLS"
   ]
  },
  {
   "cell_type": "code",
   "execution_count": 5,
   "metadata": {},
   "outputs": [],
   "source": [
    "H=[['Aa',delta_a],['Bb',delta_b],['AAb',g],['aaB',g],['A',E],['a',E]] \n",
    "Co_ps=[['a',kappa_a],['b',kappa_b]]\n",
    "T_o=['Aa','Bb','AAaa','BBbb']\n",
    "order=4"
   ]
  },
  {
   "cell_type": "code",
   "execution_count": 6,
   "metadata": {},
   "outputs": [],
   "source": [
    "data=Data.Data(H, Co_ps, T_o, order)"
   ]
  },
  {
   "cell_type": "code",
   "execution_count": 7,
   "metadata": {},
   "outputs": [
    {
     "data": {
      "text/plain": [
       "37"
      ]
     },
     "execution_count": 7,
     "metadata": {},
     "output_type": "execute_result"
    }
   ],
   "source": [
    "'''\n",
    "initial=np.zeros(len(data.Calculate()),dtype=np.complex)\n",
    "initial[0]=0.02\n",
    "data.UpdateCoef(0,ForceUpdate=True)\n",
    "sol_qcls=solve_ivp(ConvertToSolver,(0,tlist[-1]),initial,method='RK45',t_eval=tlist,args=(data,))\n",
    "'''\n",
    "len(data.Calculate())"
   ]
  },
  {
   "cell_type": "code",
   "execution_count": 8,
   "metadata": {},
   "outputs": [],
   "source": [
    "sol_qcls=Solver.Solve(data,psi0_l,(0,10),t_eval=tlist)"
   ]
  },
  {
   "cell_type": "markdown",
   "metadata": {},
   "source": [
    "### Mean-Feild"
   ]
  },
  {
   "cell_type": "code",
   "execution_count": 9,
   "metadata": {},
   "outputs": [],
   "source": [
    "T_o=['a','b']"
   ]
  },
  {
   "cell_type": "code",
   "execution_count": 10,
   "metadata": {},
   "outputs": [],
   "source": [
    "data_mean=Data.Data(H, Co_ps, T_o, 1)"
   ]
  },
  {
   "cell_type": "code",
   "execution_count": 11,
   "metadata": {},
   "outputs": [],
   "source": [
    "initial=[0.1+0.1j,0]\n",
    "#initial=[0j,0j]\n",
    "data_mean.UpdateCoef(0,ForceUpdate=True)\n",
    "sol_mean=solve_ivp(ConvertToSolver,(0,tlist[-1]),initial,method='RK45',t_eval=tlist,args=(data_mean,))"
   ]
  },
  {
   "cell_type": "code",
   "execution_count": 12,
   "metadata": {},
   "outputs": [],
   "source": [
    "a_mean=np.average(np.real(sol_mean.y[0][5000:]*np.conj(sol_mean.y[0][5000:])))\n",
    "b_mean=np.average(np.real(sol_mean.y[1][5000:]*np.conj(sol_mean.y[1][5000:])))"
   ]
  },
  {
   "cell_type": "markdown",
   "metadata": {},
   "source": [
    "### Qutip"
   ]
  },
  {
   "cell_type": "code",
   "execution_count": 13,
   "metadata": {},
   "outputs": [],
   "source": [
    "#helper function\n",
    "def BuildOperator_SHG(E:float,g:float):\n",
    "    Na=100; Nb=100\n",
    "    psi0=tensor(basis(Na,psi0_l[0]),basis(Nb,psi0_l[1]))\n",
    "    a=tensor(destroy(Na),qeye(Nb))\n",
    "    b=tensor(qeye(Na),destroy(Nb))\n",
    "    H=delta_a*a.dag()*a+delta_b*b.dag()*b+g*(b*a.dag()*a.dag()+b.dag()*a*a)\\\n",
    "        +E*(a.dag()+a)\n",
    "    c_ops=[]\n",
    "    c_ops.append(np.sqrt(kappa_a)*a)\n",
    "    c_ops.append(np.sqrt(kappa_b)*b)\n",
    "    operator={'Hamilton':H,'Collapse':c_ops,'Initial_state':psi0,'track':[a.dag()*a,b.dag()*b,\\\n",
    "                                                                          a.dag()*a.dag()*a*a,b.dag()*b.dag()*b*b]}\n",
    "    return operator"
   ]
  },
  {
   "cell_type": "code",
   "execution_count": 14,
   "metadata": {},
   "outputs": [
    {
     "name": "stdout",
     "output_type": "stream",
     "text": [
      "10.0%. Run time: 9635.14s. Est. time left: 01:00:05:16\n",
      "20.0%. Run time: 14212.36s. Est. time left: 00:15:47:29\n",
      "30.0%. Run time: 18292.39s. Est. time left: 00:11:51:22\n",
      "40.0%. Run time: 23819.77s. Est. time left: 00:09:55:29\n",
      "50.0%. Run time: 28290.33s. Est. time left: 00:07:51:30\n",
      "60.0%. Run time: 32707.96s. Est. time left: 00:06:03:25\n",
      "70.0%. Run time: 37147.53s. Est. time left: 00:04:25:20\n",
      "80.0%. Run time: 41573.79s. Est. time left: 00:02:53:13\n",
      "90.0%. Run time: 46024.01s. Est. time left: 00:01:25:13\n",
      "100.0%. Run time: 50104.32s. Est. time left: 00:00:00:00\n",
      "Total run time: 50104.71s\n"
     ]
    }
   ],
   "source": [
    "op=BuildOperator_SHG(E,g)\n",
    "output=mcsolve(op['Hamilton'],op['Initial_state'],tlist,op['Collapse'],op['track'],ntraj=2000)"
   ]
  },
  {
   "cell_type": "markdown",
   "metadata": {},
   "source": [
    "### Visualize the result"
   ]
  },
  {
   "cell_type": "code",
   "execution_count": 15,
   "metadata": {},
   "outputs": [
    {
     "data": {
      "image/png": "[encoded data removed]",
      "text/plain": [
       "<Figure size 720x432 with 1 Axes>"
      ]
     },
     "metadata": {
      "needs_background": "light"
     },
     "output_type": "display_data"
    }
   ],
   "source": [
    "fig, axes = plt.subplots(1, 1, figsize=(10,6))\n",
    "\n",
    "if (FSR_enable):\n",
    "    axes.plot(tlist, output.expect[0],label=\"A(FSR)\")\n",
    "    axes.plot(tlist, output.expect[1],label=\"B(FSR)\")\n",
    "\n",
    "axes.plot(tlist, np.real(sol_qcls.y[0]),linestyle='--',color='red',label=\"A(QCLS)\")\n",
    "axes.plot(tlist, np.real(sol_qcls.y[1]),linestyle='--',color='blue',label=\"B(QCLS)\")\n",
    "\n",
    "axes.plot(tlist, np.real(sol_mean.y[0]*np.conj(sol_mean.y[0])),color='y',linestyle='-.',label=\"A(MFA)\")\n",
    "axes.plot(tlist, np.real(sol_mean.y[1]*np.conj(sol_mean.y[1])),color='m',linestyle='-.',label=\"B(MFA)\")\n",
    "\n",
    "axes.axhline(y=a_mean,xmin=0.05,xmax=0.95,linewidth=1,color='y')\n",
    "axes.axhline(y=b_mean,xmin=0.05,xmax=0.95,linewidth=1,color='m')\n",
    "\n",
    "axes.legend(loc=0,ncol=3,frameon=False)\n",
    "\n",
    "axes.set_xlabel('Time/'+r'$\\kappa_a$')\n",
    "axes.set_ylabel('Population')\n",
    "\n",
    "parameters='_E='+str(E)+'_g='+str(g)+'_kappa_a='+str(kappa_a)+'_kappa_b='+str(kappa_b)+'_order='+str(order)\n",
    "\n",
    "fig.savefig('imgs_validate/SHG_c'+parameters+'.svg',dpi=600,format='svg')"
   ]
  },
  {
   "cell_type": "code",
   "execution_count": 16,
   "metadata": {},
   "outputs": [
    {
     "name": "stdout",
     "output_type": "stream",
     "text": [
      "g_2=1.0620346028418182,1.0011162670984528\n"
     ]
    }
   ],
   "source": [
    "print('g_2='+str(output.expect[2][-1]/(output.expect[0][-1]**2))+','+str(output.expect[3][-1]/(output.expect[1][-1]**2)))"
   ]
  },
  {
   "cell_type": "code",
   "execution_count": 17,
   "metadata": {},
   "outputs": [
    {
     "name": "stdout",
     "output_type": "stream",
     "text": [
      "g_2=(1.0452861392384027+0j),(1.0134240273395354+0j)\n"
     ]
    }
   ],
   "source": [
    "print('g_2='+str(sol_qcls.y[2][-1]/(sol_qcls.y[0][-1]**2))+','+str(sol_qcls.y[3][-1]/(sol_qcls.y[1][-1]**2)))"
   ]
  },
  {
   "cell_type": "code",
   "execution_count": 18,
   "metadata": {},
   "outputs": [
    {
     "name": "stdout",
     "output_type": "stream",
     "text": [
      "45.28004927849097 36.43049104556413\n"
     ]
    }
   ],
   "source": [
    "print(output.expect[0][-1],output.expect[1][-1])"
   ]
  },
  {
   "cell_type": "markdown",
   "metadata": {},
   "source": [
    "## g2 in OPO"
   ]
  },
  {
   "cell_type": "code",
   "execution_count": 119,
   "metadata": {},
   "outputs": [],
   "source": [
    "##parameters\n",
    "kappa_a=2\n",
    "kappa_b=4\n",
    "FSR_enable=True\n",
    "psi0_l=[0,0]\n",
    "E=4; g=0.01"
   ]
  },
  {
   "cell_type": "code",
   "execution_count": 120,
   "metadata": {},
   "outputs": [],
   "source": [
    "tlist=np.linspace(0,10,10000)"
   ]
  },
  {
   "cell_type": "markdown",
   "metadata": {},
   "source": [
    "### QCLS"
   ]
  },
  {
   "cell_type": "code",
   "execution_count": 121,
   "metadata": {},
   "outputs": [],
   "source": [
    "H=[['AAb',g],['aaB',g],['B',E],['b',E]] \n",
    "Co_ps=[['a',kappa_a],['b',kappa_b]]\n",
    "#T_o=['Aa','Bb','AAaa','BBbb']\n",
    "T_o=['Aa','Bb','A','AA','B','BB']\n",
    "order=4"
   ]
  },
  {
   "cell_type": "code",
   "execution_count": 122,
   "metadata": {},
   "outputs": [],
   "source": [
    "data=Data.Data(H, Co_ps, T_o, order)"
   ]
  },
  {
   "cell_type": "code",
   "execution_count": 123,
   "metadata": {},
   "outputs": [
    {
     "name": "stderr",
     "output_type": "stream",
     "text": [
      "C:\\ProgramData\\Anaconda3\\envs\\qutip\\lib\\site-packages\\ipykernel_launcher.py:10: RuntimeWarning: invalid value encountered in true_divide\n",
      "  # Remove the CWD from sys.path while we load stuff.\n"
     ]
    }
   ],
   "source": [
    "initial=np.zeros(len(data.Calculate()),dtype=np.complex)\n",
    "initial[2]=0.1j\n",
    "initial[0]=0.01\n",
    "data.UpdateCoef(0,ForceUpdate=True)\n",
    "sol_qcls=solve_ivp(ConvertToSolver,(0,tlist[-1]),initial,method='RK45',t_eval=tlist,args=(data,))#\n",
    "#sol_qcls=Solver.Solve(data,psi0_l,(0,10),t_eval=tlist)\n",
    "g2_a=sol_qcls.y[3]*np.conj(sol_qcls.y[3])+2*(sol_qcls.y[0]**2-(sol_qcls.y[2]**2)*(np.conj(sol_qcls.y[2])**2))\n",
    "g2_a=g2_a/(sol_qcls.y[0]**2)\n",
    "g2_b=sol_qcls.y[5]*np.conj(sol_qcls.y[5])+2*(sol_qcls.y[1]**2-(sol_qcls.y[4]**2)*(np.conj(sol_qcls.y[4])**2))\n",
    "g2_b=g2_b/(sol_qcls.y[1]**2)"
   ]
  },
  {
   "cell_type": "markdown",
   "metadata": {},
   "source": [
    "### Mean-Feild"
   ]
  },
  {
   "cell_type": "code",
   "execution_count": 124,
   "metadata": {},
   "outputs": [],
   "source": [
    "T_o=['a','b']"
   ]
  },
  {
   "cell_type": "code",
   "execution_count": 125,
   "metadata": {},
   "outputs": [],
   "source": [
    "data_mean=Data.Data(H, Co_ps, T_o, 1)"
   ]
  },
  {
   "cell_type": "code",
   "execution_count": 126,
   "metadata": {},
   "outputs": [],
   "source": [
    "initial=[0.1j,0]\n",
    "#initial=[0j,0j]\n",
    "data_mean.UpdateCoef(0,ForceUpdate=True)\n",
    "sol_mean=solve_ivp(ConvertToSolver,(0,tlist[-1]),initial,method='RK45',t_eval=tlist,args=(data_mean,))"
   ]
  },
  {
   "cell_type": "markdown",
   "metadata": {},
   "source": [
    "### QuTip"
   ]
  },
  {
   "cell_type": "code",
   "execution_count": 127,
   "metadata": {},
   "outputs": [],
   "source": [
    "#helper function\n",
    "def BuildOperator_OPO(E:float,g:float):\n",
    "    Nb=16; Na=10\n",
    "    psi0=tensor(basis(Na,0)+0.1j*basis(Na,1),basis(Nb,psi0_l[1]))\n",
    "    a=tensor(destroy(Na),qeye(Nb))\n",
    "    b=tensor(qeye(Na),destroy(Nb))\n",
    "    H=g*(b*a.dag()*a.dag()+b.dag()*a*a)+E*(b.dag()+b)\n",
    "    c_ops=[]\n",
    "    c_ops.append(np.sqrt(kappa_a)*a)\n",
    "    c_ops.append(np.sqrt(kappa_b)*b)\n",
    "    operator={'Hamilton':H,'Collapse':c_ops,'Initial_state':psi0,'track':[a.dag()*a,b.dag()*b,a.dag()*a.dag()*a*a,b.dag()*b.dag()*b*b,a]}\n",
    "    return operator"
   ]
  },
  {
   "cell_type": "code",
   "execution_count": 128,
   "metadata": {},
   "outputs": [],
   "source": [
    "op=BuildOperator_OPO(E,g)\n",
    "output=mesolve(op['Hamilton'],op['Initial_state'],tlist,op['Collapse'],op['track'])\n",
    "#output=mcsolve(op['Hamilton'],op['Initial_state'],tlist,op['Collapse'],op['track'],ntraj=1000)"
   ]
  },
  {
   "cell_type": "markdown",
   "metadata": {},
   "source": [
    "### Visualize the result"
   ]
  },
  {
   "cell_type": "code",
   "execution_count": 129,
   "metadata": {},
   "outputs": [
    {
     "data": {
      "image/png": "[encoded data removed]",
      "text/plain": [
       "<Figure size 720x432 with 1 Axes>"
      ]
     },
     "metadata": {
      "needs_background": "light"
     },
     "output_type": "display_data"
    }
   ],
   "source": [
    "fig, axes = plt.subplots(1, 1, figsize=(10,6))\n",
    "\n",
    "if (FSR_enable):\n",
    "    axes.plot(tlist, output.expect[0],label=\"A(FSR)\")\n",
    "    axes.plot(tlist, output.expect[1],label=\"B(FSR)\")\n",
    "\n",
    "axes.plot(tlist, np.real(sol_qcls.y[0]),linestyle='--',color='red',label=\"A(QCLS)\")\n",
    "axes.plot(tlist, np.real(sol_qcls.y[1]),linestyle='--',color='blue',label=\"B(QCLS)\")\n",
    "\n",
    "axes.plot(tlist, np.real(sol_mean.y[0]*np.conj(sol_mean.y[0])),color='y',linestyle='-.',label=\"A(MFA)\")\n",
    "axes.plot(tlist, np.real(sol_mean.y[1]*np.conj(sol_mean.y[1])),color='m',linestyle='-.',label=\"B(MFA)\")\n",
    "\n",
    "axes.legend(loc=0,ncol=3,frameon=False)\n",
    "\n",
    "axes.set_xlabel('Time/'+r'$\\kappa_a$')\n",
    "axes.set_ylabel('Population')\n",
    "\n",
    "parameters='_E='+str(E)+'_g='+str(g)+'_kappa_a='+str(kappa_a)+'_kappa_b='+str(kappa_b)+'_order='+str(order)\n",
    "\n",
    "fig.savefig('imgs_validate/OPO_c'+parameters+'.svg',dpi=600,format='svg')"
   ]
  },
  {
   "cell_type": "code",
   "execution_count": 130,
   "metadata": {},
   "outputs": [
    {
     "data": {
      "image/png": "[encoded data removed]",
      "text/plain": [
       "<Figure size 720x432 with 1 Axes>"
      ]
     },
     "metadata": {
      "needs_background": "light"
     },
     "output_type": "display_data"
    }
   ],
   "source": [
    "fig, axes = plt.subplots(1, 1, figsize=(10,6))\n",
    "\n",
    "\n",
    "axes.plot(tlist, np.real(sol_qcls.y[2]*np.conj(sol_qcls.y[2])),linestyle='--',label=\"A_s(QCLS)\")\n",
    "axes.plot(tlist, np.real(output.expect[4]*np.conj(output.expect[4])),linestyle='-',label=\"A_s(FSR)\")\n",
    "\n",
    "axes.legend(loc=0,ncol=3,frameon=False)\n",
    "\n",
    "axes.set_xlabel('Time/'+r'$\\kappa_a$')\n",
    "axes.set_ylabel(r'$\\langle a\\rangle\\langle a^\\dag\\rangle$')\n",
    "\n",
    "parameters='_E='+str(E)+'_g='+str(g)+'_kappa_a='+str(kappa_a)+'_kappa_b='+str(kappa_b)+'_order='+str(order)\n",
    "\n",
    "fig.savefig('imgs_validate/OPO_s_c'+parameters+'.svg',dpi=600,format='svg')"
   ]
  },
  {
   "cell_type": "code",
   "execution_count": 131,
   "metadata": {},
   "outputs": [
    {
     "name": "stdout",
     "output_type": "stream",
     "text": [
      "g_2=621.0117713672595,0.9899479065012696\n"
     ]
    }
   ],
   "source": [
    "print('g_2='+str(output.expect[2][-1]/(output.expect[0][-1]**2))+','+str(output.expect[3][-1]/(output.expect[1][-1]**2)))"
   ]
  },
  {
   "cell_type": "code",
   "execution_count": 132,
   "metadata": {},
   "outputs": [
    {
     "name": "stdout",
     "output_type": "stream",
     "text": [
      "g_2=(627.0633171728695+0j),(1.0000000050335902+0j)\n"
     ]
    }
   ],
   "source": [
    "#print('g_2='+str(sol_qcls.y[2][-1]/(sol_qcls.y[0][-1]**2))+','+str(sol_qcls.y[3][-1]/(sol_qcls.y[1][-1]**2)))\n",
    "print('g_2='+str(g2_a[-1])+','+str(g2_b[-1]))"
   ]
  },
  {
   "cell_type": "code",
   "execution_count": 133,
   "metadata": {},
   "outputs": [
    {
     "name": "stdout",
     "output_type": "stream",
     "text": [
      "0.0008090068249105345 4.038891344487902\n"
     ]
    }
   ],
   "source": [
    "print(output.expect[0][-1],output.expect[1][-1])"
   ]
  },
  {
   "cell_type": "code",
   "execution_count": 134,
   "metadata": {},
   "outputs": [
    {
     "name": "stdout",
     "output_type": "stream",
     "text": [
      "6.637936201556219e-06j 6.638986929507966e-06j\n"
     ]
    }
   ],
   "source": [
    "print(output.expect[4][-1],sol_qcls.y[2][-1])"
   ]
  },
  {
   "cell_type": "markdown",
   "metadata": {},
   "source": [
    "# New Tool"
   ]
  },
  {
   "cell_type": "code",
   "execution_count": 5,
   "metadata": {},
   "outputs": [
    {
     "data": {
      "text/plain": [
       "([1, 1, 2, 2],\n",
       " {'A': 1, 'a': 2},\n",
       " [((-2+0j), (1, 0, 1, 0, 2, 0, 2)),\n",
       "  ((1-0j), (1, 1, 0, 2, 2)),\n",
       "  ((2-0j), (1, 2, 0, 1, 2))])"
      ]
     },
     "execution_count": 5,
     "metadata": {},
     "output_type": "execute_result"
    }
   ],
   "source": [
    "Tool.cluster_expansion(\"AAaa\",2)"
   ]
  },
  {
   "cell_type": "code",
   "execution_count": 6,
   "metadata": {},
   "outputs": [
    {
     "data": {
      "text/plain": [
       "([1, 1, 2, 2],\n",
       " {'B': 1, 'b': 2},\n",
       " [((-2+0j), (1, 0, 1, 0, 2, 0, 2)),\n",
       "  ((1-0j), (1, 1, 0, 2, 2)),\n",
       "  ((2-0j), (1, 2, 0, 1, 2))])"
      ]
     },
     "execution_count": 6,
     "metadata": {},
     "output_type": "execute_result"
    }
   ],
   "source": [
    "Tool.cluster_expansion(\"BBbb\",2)"
   ]
  },
  {
   "cell_type": "code",
   "execution_count": 135,
   "metadata": {},
   "outputs": [
    {
     "data": {
      "text/plain": [
       "([4, 2, 2],\n",
       " {'A': 1, 'a': 2, 'B': 3, 'b': 4},\n",
       " [((2-0j), (2, 0, 4, 2)), ((-2+0j), (4, 0, 2, 0, 2)), ((1-0j), (4, 0, 2, 2))])"
      ]
     },
     "execution_count": 135,
     "metadata": {},
     "output_type": "execute_result"
    }
   ],
   "source": [
    "Tool.cluster_expansion(\"baa\",2)"
   ]
  }
 ],
 "metadata": {
  "kernelspec": {
   "display_name": "Python 3",
   "language": "python",
   "name": "python3"
  },
  "language_info": {
   "codemirror_mode": {
    "name": "ipython",
    "version": 3
   },
   "file_extension": ".py",
   "mimetype": "text/x-python",
   "name": "python",
   "nbconvert_exporter": "python",
   "pygments_lexer": "ipython3",
   "version": "3.8.3"
  }
 },
 "nbformat": 4,
 "nbformat_minor": 4
}
